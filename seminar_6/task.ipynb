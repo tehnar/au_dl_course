{
 "cells": [
  {
   "cell_type": "code",
   "execution_count": 1,
   "metadata": {
    "collapsed": true
   },
   "outputs": [],
   "source": [
    "import pandas as pd\n",
    "import numpy as np\n",
    "import tensorflow as tf\n",
    "from collections import Counter\n",
    "import matplotlib.pyplot as plt\n",
    "from tqdm import tqdm\n",
    "\n",
    "%matplotlib inline"
   ]
  },
  {
   "cell_type": "code",
   "execution_count": 2,
   "metadata": {
    "collapsed": true
   },
   "outputs": [],
   "source": [
    "data_df = pd.read_table('../seminar_5/data/family_classification_metadata.tab')\n",
    "seq_df = pd.read_table('../seminar_5/data/family_classification_sequences.tab')"
   ]
  },
  {
   "cell_type": "code",
   "execution_count": 3,
   "metadata": {},
   "outputs": [
    {
     "data": {
      "text/html": [
       "<div>\n",
       "<style>\n",
       "    .dataframe thead tr:only-child th {\n",
       "        text-align: right;\n",
       "    }\n",
       "\n",
       "    .dataframe thead th {\n",
       "        text-align: left;\n",
       "    }\n",
       "\n",
       "    .dataframe tbody tr th {\n",
       "        vertical-align: top;\n",
       "    }\n",
       "</style>\n",
       "<table border=\"1\" class=\"dataframe\">\n",
       "  <thead>\n",
       "    <tr style=\"text-align: right;\">\n",
       "      <th></th>\n",
       "      <th>Sequences</th>\n",
       "    </tr>\n",
       "  </thead>\n",
       "  <tbody>\n",
       "    <tr>\n",
       "      <th>0</th>\n",
       "      <td>MAFSAEDVLKEYDRRRRMEALLLSLYYPNDRKLLDYKEWSPPRVQV...</td>\n",
       "    </tr>\n",
       "    <tr>\n",
       "      <th>1</th>\n",
       "      <td>MSIIGATRLQNDKSDTYSAGPCYAGGCSAFTPRGTCGKDWDLGEQT...</td>\n",
       "    </tr>\n",
       "    <tr>\n",
       "      <th>2</th>\n",
       "      <td>MQNPLPEVMSPEHDKRTTTPMSKEANKFIRELDKKPGDLAVVSDFV...</td>\n",
       "    </tr>\n",
       "    <tr>\n",
       "      <th>3</th>\n",
       "      <td>MDSLNEVCYEQIKGTFYKGLFGDFPLIVDKKTGCFNATKLCVLGGK...</td>\n",
       "    </tr>\n",
       "    <tr>\n",
       "      <th>4</th>\n",
       "      <td>MEAKNITIDNTTYNFFKFYNINQPLTNLKYLNSERLCFSNAVMGKI...</td>\n",
       "    </tr>\n",
       "  </tbody>\n",
       "</table>\n",
       "</div>"
      ],
      "text/plain": [
       "                                           Sequences\n",
       "0  MAFSAEDVLKEYDRRRRMEALLLSLYYPNDRKLLDYKEWSPPRVQV...\n",
       "1  MSIIGATRLQNDKSDTYSAGPCYAGGCSAFTPRGTCGKDWDLGEQT...\n",
       "2  MQNPLPEVMSPEHDKRTTTPMSKEANKFIRELDKKPGDLAVVSDFV...\n",
       "3  MDSLNEVCYEQIKGTFYKGLFGDFPLIVDKKTGCFNATKLCVLGGK...\n",
       "4  MEAKNITIDNTTYNFFKFYNINQPLTNLKYLNSERLCFSNAVMGKI..."
      ]
     },
     "execution_count": 3,
     "metadata": {},
     "output_type": "execute_result"
    }
   ],
   "source": [
    "seq_df.head()"
   ]
  },
  {
   "cell_type": "code",
   "execution_count": 4,
   "metadata": {},
   "outputs": [
    {
     "data": {
      "text/html": [
       "<div>\n",
       "<style>\n",
       "    .dataframe thead tr:only-child th {\n",
       "        text-align: right;\n",
       "    }\n",
       "\n",
       "    .dataframe thead th {\n",
       "        text-align: left;\n",
       "    }\n",
       "\n",
       "    .dataframe tbody tr th {\n",
       "        vertical-align: top;\n",
       "    }\n",
       "</style>\n",
       "<table border=\"1\" class=\"dataframe\">\n",
       "  <thead>\n",
       "    <tr style=\"text-align: right;\">\n",
       "      <th></th>\n",
       "      <th>SwissProtAccessionID</th>\n",
       "      <th>LongID</th>\n",
       "      <th>ProteinName</th>\n",
       "      <th>FamilyID</th>\n",
       "      <th>FamilyDescription</th>\n",
       "    </tr>\n",
       "  </thead>\n",
       "  <tbody>\n",
       "    <tr>\n",
       "      <th>0</th>\n",
       "      <td>Q6GZX4</td>\n",
       "      <td>001R_FRG3G</td>\n",
       "      <td>Putative transcription factor 001R</td>\n",
       "      <td>Pox_VLTF3</td>\n",
       "      <td>Poxvirus Late Transcription Factor VLTF3 like</td>\n",
       "    </tr>\n",
       "    <tr>\n",
       "      <th>1</th>\n",
       "      <td>Q6GZX3</td>\n",
       "      <td>002L_FRG3G</td>\n",
       "      <td>Uncharacterized protein 002L</td>\n",
       "      <td>DUF230</td>\n",
       "      <td>Poxvirus proteins of unknown function</td>\n",
       "    </tr>\n",
       "    <tr>\n",
       "      <th>2</th>\n",
       "      <td>Q6GZX0</td>\n",
       "      <td>005R_FRG3G</td>\n",
       "      <td>Uncharacterized protein 005R</td>\n",
       "      <td>US22</td>\n",
       "      <td>US22 like</td>\n",
       "    </tr>\n",
       "    <tr>\n",
       "      <th>3</th>\n",
       "      <td>Q91G88</td>\n",
       "      <td>006L_IIV6</td>\n",
       "      <td>Putative KilA-N domain-containing protein 006L</td>\n",
       "      <td>DUF3627</td>\n",
       "      <td>Protein of unknown function (DUF3627)</td>\n",
       "    </tr>\n",
       "    <tr>\n",
       "      <th>4</th>\n",
       "      <td>Q197F3</td>\n",
       "      <td>007R_IIV3</td>\n",
       "      <td>Uncharacterized protein 007R</td>\n",
       "      <td>DUF2738</td>\n",
       "      <td>Protein of unknown function (DUF2738)</td>\n",
       "    </tr>\n",
       "  </tbody>\n",
       "</table>\n",
       "</div>"
      ],
      "text/plain": [
       "  SwissProtAccessionID      LongID  \\\n",
       "0               Q6GZX4  001R_FRG3G   \n",
       "1               Q6GZX3  002L_FRG3G   \n",
       "2               Q6GZX0  005R_FRG3G   \n",
       "3               Q91G88   006L_IIV6   \n",
       "4               Q197F3   007R_IIV3   \n",
       "\n",
       "                                      ProteinName   FamilyID  \\\n",
       "0              Putative transcription factor 001R  Pox_VLTF3   \n",
       "1                    Uncharacterized protein 002L     DUF230   \n",
       "2                    Uncharacterized protein 005R       US22   \n",
       "3  Putative KilA-N domain-containing protein 006L    DUF3627   \n",
       "4                    Uncharacterized protein 007R    DUF2738   \n",
       "\n",
       "                               FamilyDescription  \n",
       "0  Poxvirus Late Transcription Factor VLTF3 like  \n",
       "1          Poxvirus proteins of unknown function  \n",
       "2                                      US22 like  \n",
       "3          Protein of unknown function (DUF3627)  \n",
       "4          Protein of unknown function (DUF2738)  "
      ]
     },
     "execution_count": 4,
     "metadata": {},
     "output_type": "execute_result"
    }
   ],
   "source": [
    "data_df.head()"
   ]
  },
  {
   "cell_type": "code",
   "execution_count": 5,
   "metadata": {
    "collapsed": true
   },
   "outputs": [],
   "source": [
    "codone_to_vec = {}\n",
    "\n",
    "with open('protVec_100d_3grams.csv', 'r') as file:\n",
    "    for line in file.readlines():\n",
    "        tokens = line[1:-2].split('\\t')\n",
    "        codone_to_vec[tokens[0]] = np.array(tokens[1:], dtype=np.float32)\n",
    "\n",
    "codone_to_vec['AAA'].shape, codone_to_vec['AAA']\n",
    "codone_to_vec['000'] = np.zeros(100, dtype=np.float32)\n",
    "codone_to_id = {}\n",
    "embedding = []\n",
    "for cod, vec in codone_to_vec.items():\n",
    "    codone_to_id[cod] = len(embedding)\n",
    "    embedding.append(vec)\n",
    "embedding = np.array(embedding, dtype=np.float32)"
   ]
  },
  {
   "cell_type": "markdown",
   "metadata": {},
   "source": [
    "Для ускорения обучения рассматриваю только 100 популярных классов"
   ]
  },
  {
   "cell_type": "code",
   "execution_count": 6,
   "metadata": {
    "collapsed": true
   },
   "outputs": [],
   "source": [
    "MAX_LEN = seq_df['Sequences'].str.len().max() // 3\n",
    "EMBED_SIZE = 100\n",
    "CLASS_COUNT = 100\n",
    "BATCH_SIZE = 48\n",
    "TEST_RATIO = 0.2"
   ]
  },
  {
   "cell_type": "code",
   "execution_count": 7,
   "metadata": {
    "collapsed": true
   },
   "outputs": [],
   "source": [
    "families = data_df['FamilyID']\n",
    "family_to_id = {c: i for i, (c, _) in enumerate(Counter(families).most_common(CLASS_COUNT))}"
   ]
  },
  {
   "cell_type": "code",
   "execution_count": 8,
   "metadata": {
    "collapsed": true
   },
   "outputs": [],
   "source": [
    "np.random.seed(123)\n",
    "\n",
    "def seq_to_ids(seq):\n",
    "    result = np.zeros(MAX_LEN, dtype=np.int32)\n",
    "    \n",
    "    for j in range(len(seq) // 3):\n",
    "        codone = seq[3 * j: 3 * j + 3]\n",
    "        result[j] = codone_to_id[codone] if codone in codone_to_id else codone_to_id['<unk>'] \n",
    "    for j in range(len(seq) // 3, MAX_LEN):\n",
    "        result[j] = codone_to_id['000']\n",
    "    \n",
    "    return result\n",
    "\n",
    "seqs_and_families = []\n",
    "for i in range(len(seq_df)):\n",
    "    seq = seq_df.iloc[i, :][0]\n",
    "    family = data_df.iloc[i].FamilyID\n",
    "    if family in family_to_id:\n",
    "        seqs_and_families.append((seq_to_ids(seq), family_to_id[family]))"
   ]
  },
  {
   "cell_type": "code",
   "execution_count": 9,
   "metadata": {
    "collapsed": true
   },
   "outputs": [],
   "source": [
    "def gen_sample(data):\n",
    "    i = np.random.randint(len(data))\n",
    "    return data[i]\n",
    "\n",
    "def gen_batch(data):\n",
    "    while True:\n",
    "        x, y = zip(*[gen_sample(data) for i in range(BATCH_SIZE)])\n",
    "        yield np.array(x), np.array(y)"
   ]
  },
  {
   "cell_type": "code",
   "execution_count": 10,
   "metadata": {
    "collapsed": true
   },
   "outputs": [],
   "source": [
    "from lazy import lazy\n",
    "\n",
    "class SequenceClassificationModel:\n",
    "    def __init__(self, params):\n",
    "        self.params = params\n",
    "        self._create_placeholders()\n",
    "        self.prediction\n",
    "        self.cost\n",
    "        self.error\n",
    "        self.optimize\n",
    "        self._create_summaries()\n",
    "        # self.global_step = tf.Variable(0, dtype=tf.int32, trainable=False, name='global_step')\n",
    "    \n",
    "    def _create_placeholders(self):\n",
    "        with tf.name_scope(\"data\"):\n",
    "            self.embedding = tf.constant(embedding)\n",
    "            self.seq_data = tf.placeholder(tf.int32, [None, self.params.seq_length])\n",
    "            self.data = tf.nn.embedding_lookup(self.embedding, self.seq_data)\n",
    "            #tf.placeholder(tf.float32, [None, self.params.seq_length, self.params.embed_length])\n",
    "            self.target = tf.placeholder(tf.int32, [None])\n",
    "            self.vec_target = tf.one_hot(self.target, CLASS_COUNT)\n",
    "  \n",
    "    def _create_summaries(self):\n",
    "        with tf.name_scope(\"summaries\"):\n",
    "            tf.summary.scalar('loss', self.cost)\n",
    "            tf.summary.scalar('error', self.error)\n",
    "            self.summary = tf.summary.merge_all()\n",
    "            self.saver = tf.train.Saver()\n",
    "            \n",
    "    @lazy\n",
    "    def length(self):\n",
    "    # First, we obtain the lengths of sequences in the current data batch. We need this since\n",
    "    # the data comes as a single tensor, padded with zero vectors to the longest review length.\n",
    "    # Instead of keeping track of the sequence lengths of every review, we just compute it\n",
    "    # dynamically in TensorFlow.\n",
    "    \n",
    "        with tf.name_scope(\"seq_length\"):\n",
    "            used = tf.sign(tf.reduce_max(tf.abs(self.data), reduction_indices=2))\n",
    "            length = tf.reduce_sum(used, reduction_indices=1)\n",
    "            length = tf.cast(length, tf.int32)\n",
    "        return length\n",
    "    \n",
    "    @lazy\n",
    "    def prediction(self):\n",
    "    # Note that the last relevant output activation of the RNN has a different index for each\n",
    "    # sequence in the training batch. This is because each review has a different length. We\n",
    "    # already know the length of each sequence.\n",
    "    # The problem is that we want to index in the dimension of time steps, which is\n",
    "    # the second dimension in the batch of shape  (sequences, time_steps, word_vectors) .\n",
    "    \n",
    "        with tf.name_scope(\"recurrent_layer\"):\n",
    "            output, _ = tf.nn.dynamic_rnn(\n",
    "                self.params.rnn_cell(self.params.rnn_hidden),\n",
    "                self.data,\n",
    "                dtype=tf.float32,\n",
    "                sequence_length=self.length\n",
    "            )\n",
    "        last = self._last_relevant(output, self.length)\n",
    "\n",
    "        with tf.name_scope(\"softmax_layer\"):\n",
    "            num_classes = int(self.vec_target.get_shape()[1])\n",
    "            weight = tf.Variable(tf.truncated_normal(\n",
    "                [self.params.rnn_hidden, num_classes], stddev=0.01))\n",
    "            bias = tf.Variable(tf.constant(0.1, shape=[num_classes]))\n",
    "            prediction = tf.nn.softmax(tf.matmul(last, weight) + bias)\n",
    "        return prediction\n",
    "    \n",
    "    @lazy\n",
    "    def cost(self):\n",
    "        cross_entropy = -tf.reduce_sum(self.vec_target * tf.log(self.prediction))\n",
    "        return cross_entropy\n",
    "    \n",
    "    @lazy\n",
    "    def error(self):\n",
    "        self.mistakes = tf.not_equal(\n",
    "            tf.argmax(self.vec_target, 1), tf.argmax(self.prediction, 1))\n",
    "        return tf.reduce_mean(tf.cast(self.mistakes, tf.float32))\n",
    "    \n",
    "    @lazy\n",
    "    def optimize(self):\n",
    "    # RNNs are quite hard to train and weights tend to diverge if the hyper parameters do not\n",
    "    # play nicely together. The idea of gradient clipping is to restrict the the values of the\n",
    "    # gradient to a sensible range. This way, we can limit the maximum weight updates.\n",
    "\n",
    "        with tf.name_scope(\"optimization\"):\n",
    "            gradient = self.params.optimizer.compute_gradients(self.cost)\n",
    "            if self.params.gradient_clipping:\n",
    "                limit = self.params.gradient_clipping\n",
    "                gradient = [\n",
    "                    (tf.clip_by_value(g, -limit, limit), v)\n",
    "                    if g is not None else (None, v)\n",
    "                    for g, v in gradient]\n",
    "            optimize = self.params.optimizer.apply_gradients(gradient)\n",
    "        return optimize\n",
    "    \n",
    "    @staticmethod\n",
    "    def _last_relevant(output, length):\n",
    "        with tf.name_scope(\"last_relevant\"):\n",
    "            # As of now, TensorFlow only supports indexing along the first dimension, using\n",
    "            # tf.gather() . We thus flatten the first two dimensions of the output activations from their\n",
    "            # shape of  sequences x time_steps x word_vectors  and construct an index into this resulting tensor.\n",
    "            batch_size = tf.shape(output)[0]\n",
    "            max_length = int(output.get_shape()[1])\n",
    "            output_size = int(output.get_shape()[2])\n",
    "\n",
    "            # The index takes into account the start indices for each sequence in the flat tensor and adds\n",
    "            # the sequence length to it. Actually, we only add  length - 1  so that we select the last valid\n",
    "            # time step.\n",
    "            index = tf.range(0, batch_size) * max_length + (length - 1)\n",
    "            flat = tf.reshape(output, [-1, output_size])\n",
    "            relevant = tf.gather(flat, index)\n",
    "        return relevant"
   ]
  },
  {
   "cell_type": "code",
   "execution_count": 11,
   "metadata": {},
   "outputs": [
    {
     "data": {
      "text/plain": [
       "AttrDict({'rnn_cell': <class 'tensorflow.python.ops.rnn_cell_impl.GRUCell'>, 'rnn_hidden': 100, 'optimizer': <tensorflow.python.training.rmsprop.RMSPropOptimizer object at 0x7fb090e81240>, 'batch_size': 48, 'gradient_clipping': 100, 'seq_length': 7384, 'embed_length': 100, 'classes': 100, 'device': 'gpu', 'mem_frac': 1.0, 'max_iter': None, 'test_size': 0.2})"
      ]
     },
     "execution_count": 11,
     "metadata": {},
     "output_type": "execute_result"
    }
   ],
   "source": [
    "from attrdict import AttrDict\n",
    "\n",
    "params = AttrDict(\n",
    "    rnn_cell=tf.contrib.rnn.GRUCell,\n",
    "    rnn_hidden=100,\n",
    "    optimizer=tf.train.RMSPropOptimizer(0.005),\n",
    "    batch_size=BATCH_SIZE,\n",
    "    gradient_clipping=100,\n",
    "    seq_length=MAX_LEN,\n",
    "    embed_length=EMBED_SIZE,\n",
    "    classes=CLASS_COUNT,\n",
    "    device='gpu',\n",
    "    mem_frac=1.0,\n",
    "    max_iter=None,\n",
    "    test_size=TEST_RATIO\n",
    ")\n",
    "params"
   ]
  },
  {
   "cell_type": "code",
   "execution_count": 18,
   "metadata": {},
   "outputs": [
    {
     "name": "stdout",
     "output_type": "stream",
     "text": [
      "76415 19104\n"
     ]
    },
    {
     "name": "stderr",
     "output_type": "stream",
     "text": [
      "/home/tehnar/anaconda3/envs/tensorflow/lib/python3.6/site-packages/tensorflow/python/ops/gradients_impl.py:95: UserWarning: Converting sparse IndexedSlices to a dense Tensor of unknown shape. This may consume a large amount of memory.\n",
      "  \"Converting sparse IndexedSlices to a dense Tensor of unknown shape. \"\n"
     ]
    }
   ],
   "source": [
    "np.random.shuffle(seqs_and_families)\n",
    "train_data = seqs_and_families[:int(len(seqs_and_families) * (1 - TEST_RATIO))]\n",
    "test_data = seqs_and_families[int(len(seqs_and_families) * (1 - TEST_RATIO)):]\n",
    "batch_gen = gen_batch(train_data)\n",
    "print(len(train_data), len(test_data))\n",
    "tf.reset_default_graph()\n",
    "\n",
    "model = SequenceClassificationModel(params)"
   ]
  },
  {
   "cell_type": "code",
   "execution_count": null,
   "metadata": {
    "collapsed": true
   },
   "outputs": [],
   "source": [
    "with tf.Session() as sess:\n",
    "    sess.run(tf.global_variables_initializer())\n",
    "    summary_writer = tf.summary.FileWriter('graphs', sess.graph)\n",
    "    cur_iter = 1\n",
    "    sum_error = 0\n",
    "    sum_loss = 0\n",
    "    for batch in batch_gen:\n",
    "        feed = {model.seq_data: batch[0], model.target: batch[1]}\n",
    "        error, loss, _, summary_str = sess.run([model.error, model.cost, model.optimize, model.summary], feed)\n",
    "        sum_error += error\n",
    "        sum_loss += loss\n",
    "        if cur_iter % 25 == 0:\n",
    "            print('{}: avg error {:3.1f}%, avg loss {:3.3f}'.format(cur_iter, 100 * sum_error / 25, sum_loss / 25))\n",
    "            sum_error = 0\n",
    "            sum_loss = 0\n",
    "            summary_writer.add_summary(summary_str, cur_iter)\n",
    "            model.saver.save(sess,\n",
    "                             save_path='checkpoints',\n",
    "                             global_step=cur_iter)\n",
    "        if cur_iter == 1300:\n",
    "            break\n",
    "        cur_iter += 1\n"
   ]
  },
  {
   "cell_type": "code",
   "execution_count": 14,
   "metadata": {},
   "outputs": [
    {
     "name": "stdout",
     "output_type": "stream",
     "text": [
      "Trying to restore last checkpoint...\n",
      "INFO:tensorflow:Restoring parameters from ./checkpoints-1000\n",
      "Restored checkpoint from: ./checkpoints-1000\n",
      "Test error: 26.833, test loss51.515\n",
      "Test error: 28.208, test loss52.813\n",
      "Test error: 28.222, test loss53.811\n",
      "Test error: 28.063, test loss52.592\n",
      "Test error: 27.817, test loss52.561\n",
      "Test error: 27.583, test loss52.285\n",
      "Test error: 27.655, test loss52.715\n",
      "Test error: 27.979, test loss52.886\n",
      "Test error: 27.824, test loss52.713\n",
      "Test error: 27.967, test loss52.848\n",
      "Test error: 27.841, test loss52.762\n",
      "Test error: 27.757, test loss52.497\n",
      "Test error: 28.006, test loss52.952\n",
      "Test error: 27.940, test loss52.879\n",
      "Test error: 27.950, test loss52.919\n",
      "Test error: 27.895, test loss:52.841\n"
     ]
    }
   ],
   "source": [
    "with tf.Session() as sess:\n",
    "    try:\n",
    "        print(\"Trying to restore last checkpoint...\")\n",
    "        last_chk_path = tf.train.latest_checkpoint(checkpoint_dir=\".\")\n",
    "        model.saver.restore(sess, save_path=last_chk_path)\n",
    "        print(\"Restored checkpoint from:\", last_chk_path)\n",
    "    except Exception as e:\n",
    "        print(e)\n",
    "        print(\"Failed to restore checkpoint. Initializing variables instead.\")\n",
    "        sess.run(tf.global_variables_initializer())\n",
    "\n",
    "    summary_writer = tf.summary.FileWriter('graphs', sess.graph)\n",
    "    cur_iter = 1\n",
    "    sum_error = 0\n",
    "    sum_loss = 0\n",
    "    for i in range(0, len(test_data), BATCH_SIZE):\n",
    "        x = []\n",
    "        y = []\n",
    "        batch_size = min(i + BATCH_SIZE, len(test_data)) - i\n",
    "        for j in range(i, i + batch_size):\n",
    "            x.append(test_data[j][0])\n",
    "            y.append(test_data[j][1])\n",
    "        feed = {model.seq_data: np.array(x), model.target: np.array(y)}\n",
    "        error, loss = sess.run([model.error, model.cost], feed)\n",
    "        sum_error += error * batch_size\n",
    "        sum_loss += loss * batch_size\n",
    "        if cur_iter % 25 == 0:\n",
    "            print('Test error: {:3.3f}, test loss{:3.3f}'.format(100 * sum_error / cur_iter / BATCH_SIZE, sum_loss / cur_iter / BATCH_SIZE))\n",
    "            \n",
    "        cur_iter += 1\n",
    "    print('Test error: {:3.3f}, test loss:{:3.3f}'.format(100 * sum_error / len(test_data), sum_loss / len(test_data)))\n"
   ]
  },
  {
   "cell_type": "markdown",
   "metadata": {},
   "source": [
    "### Random forest\n",
    "К сожалению, после embedding весь датасет в память не влезает, поэтому обучаюсь только на 20% данных"
   ]
  },
  {
   "cell_type": "code",
   "execution_count": 25,
   "metadata": {},
   "outputs": [
    {
     "data": {
      "text/plain": [
       "RandomForestClassifier(bootstrap=True, class_weight=None, criterion='gini',\n",
       "            max_depth=None, max_features='auto', max_leaf_nodes=None,\n",
       "            min_impurity_decrease=0.0, min_impurity_split=None,\n",
       "            min_samples_leaf=1, min_samples_split=2,\n",
       "            min_weight_fraction_leaf=0.0, n_estimators=10, n_jobs=1,\n",
       "            oob_score=False, random_state=None, verbose=0,\n",
       "            warm_start=False)"
      ]
     },
     "execution_count": 25,
     "metadata": {},
     "output_type": "execute_result"
    }
   ],
   "source": [
    "from sklearn.ensemble import RandomForestClassifier\n",
    "\n",
    "def get_x_y(data):\n",
    "    x_data = []\n",
    "    y_data = []\n",
    "    for x, y in train_data:\n",
    "        vec = np.zeros(MAX_LEN, dtype=np.float32)\n",
    "        vec[:len(x)] = x\n",
    "        x_data.append(vec)\n",
    "        y_data.append(y)\n",
    "    return np.array(x_data), np.array(y_data)\n",
    "\n",
    "x_train, y_train = get_x_y(train_data[:len(train_data) // 5])\n",
    "x_test, y_test = get_x_y(train_data[:len(test_data)])\n",
    "\n",
    "model = RandomForestClassifier()\n",
    "model.fit(x_data, y_data)"
   ]
  },
  {
   "cell_type": "code",
   "execution_count": 26,
   "metadata": {},
   "outputs": [
    {
     "data": {
      "text/plain": [
       "'Acc: 0.5717332984361709'"
      ]
     },
     "execution_count": 26,
     "metadata": {},
     "output_type": "execute_result"
    }
   ],
   "source": [
    "'Acc: {}'.format((model.predict(x_test) == y_test).sum() / len(x_test))\n"
   ]
  },
  {
   "cell_type": "markdown",
   "metadata": {},
   "source": [
    "### TSNE"
   ]
  },
  {
   "cell_type": "code",
   "execution_count": 27,
   "metadata": {},
   "outputs": [
    {
     "data": {
      "image/png": "[encoded data removed]",
      "text/plain": [
       "<matplotlib.figure.Figure at 0x7fb07bfa4f60>"
      ]
     },
     "metadata": {},
     "output_type": "display_data"
    }
   ],
   "source": [
    "from sklearn.manifold import TSNE\n",
    "\n",
    "tsne = TSNE(n_components=2)\n",
    "inds = ((y_train == 0) | (y_train == 1)).squeeze()\n",
    "emb_x, emb_y = tsne.fit_transform(x_train[inds]), y_train[inds]\n",
    "plt.scatter(emb_x[:, 0], emb_x[:, 1], c=emb_y)\n",
    "plt.show()"
   ]
  },
  {
   "cell_type": "code",
   "execution_count": null,
   "metadata": {
    "collapsed": true
   },
   "outputs": [],
   "source": []
  }
 ],
 "metadata": {
  "kernelspec": {
   "display_name": "Python 3",
   "language": "python",
   "name": "python3"
  },
  "language_info": {
   "codemirror_mode": {
    "name": "ipython",
    "version": 3
   },
   "file_extension": ".py",
   "mimetype": "text/x-python",
   "name": "python",
   "nbconvert_exporter": "python",
   "pygments_lexer": "ipython3",
   "version": "3.6.3"
  }
 },
 "nbformat": 4,
 "nbformat_minor": 2
}
